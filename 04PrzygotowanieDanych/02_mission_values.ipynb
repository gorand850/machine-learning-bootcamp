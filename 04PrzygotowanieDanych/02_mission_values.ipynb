{
  "nbformat": 4,
  "nbformat_minor": 0,
  "metadata": {
    "colab": {
      "name": "02_mission_values.ipynb",
      "provenance": [],
      "authorship_tag": "ABX9TyMqD7irSz7B3kYIURC6KHiH",
      "include_colab_link": true
    },
    "kernelspec": {
      "name": "python3",
      "display_name": "Python 3"
    }
  },
  "cells": [
    {
      "cell_type": "markdown",
      "metadata": {
        "id": "view-in-github",
        "colab_type": "text"
      },
      "source": [
        "<a href=\"https://colab.research.google.com/github/gorand850/machine-learning-bootcamp/blob/main/04PrzygotowanieDanych/02_mission_values.ipynb\" target=\"_parent\"><img src=\"https://colab.research.google.com/assets/colab-badge.svg\" alt=\"Open In Colab\"/></a>"
      ]
    },
    {
      "cell_type": "markdown",
      "metadata": {
        "id": "iuMwn5aD3kZc"
      },
      "source": [
        "### scikit-learn \r\n",
        "Strona biblioteki: [https://scikit-learn.org](https://scikit-learn.org)  \r\n",
        "\r\n",
        "Dokumentacja/User Guide: [https://scikit-learn.org/stable/user_guide.html](https://scikit-learn.org/stable/user_guide.html)\r\n",
        "\r\n",
        "Podstawowa biblioteka do uczenia maszynowego w języku Python.\r\n",
        "\\n\r\n",
        "Aby zainstalować bibliotekę scikit-learn, użyj polecenia poniżej:\r\n",
        "\r\n",
        "  `!pip install scikit-learn`\r\n",
        "\r\n",
        "Aby zaktualizować do najnowszej wersji bibliotekę scikit-learn, użyj polecenia poniżej:\r\n",
        "\r\n",
        "  `!pip install --upgrade scikit-learn`\r\n",
        "\r\n",
        "Kurs stworzony w oparciu o wersję `0.22.1`\r\n",
        "\r\n",
        "### Spis treści:\r\n",
        "1. [Import bibliotek](#0)\r\n",
        "2. [Wygenerowanie danych](#1)\r\n",
        "3. [Utworzenie kopii danych](#2)\r\n",
        "4. [Sprawdzenie braków](#3)\r\n",
        "5. [Uzupełnienie braków - SimpleImputer](#4)\r\n",
        "6. [Braki danych w szeregach czasowych](#5)\r\n"
      ]
    },
    {
      "cell_type": "code",
      "metadata": {
        "id": "UNtW9DTA3iaj"
      },
      "source": [
        ""
      ],
      "execution_count": null,
      "outputs": []
    }
  ]
}