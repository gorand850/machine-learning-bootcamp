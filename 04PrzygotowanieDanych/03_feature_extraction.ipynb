{
  "nbformat": 4,
  "nbformat_minor": 0,
  "metadata": {
    "colab": {
      "name": "03_feature_extraction.ipynb",
      "provenance": [],
      "authorship_tag": "ABX9TyPahFx+2WsbZqpNVsgSgTGa",
      "include_colab_link": true
    },
    "kernelspec": {
      "name": "python3",
      "display_name": "Python 3"
    }
  },
  "cells": [
    {
      "cell_type": "markdown",
      "metadata": {
        "id": "view-in-github",
        "colab_type": "text"
      },
      "source": [
        "<a href=\"https://colab.research.google.com/github/gorand850/machine-learning-bootcamp/blob/main/04PrzygotowanieDanych/03_feature_extraction.ipynb\" target=\"_parent\"><img src=\"https://colab.research.google.com/assets/colab-badge.svg\" alt=\"Open In Colab\"/></a>"
      ]
    },
    {
      "cell_type": "markdown",
      "metadata": {
        "id": "ulaavt5kuU7a"
      },
      "source": [
        "#scikit-learn\r\n",
        "\r\n",
        "Strona biblioteki: https://scikit-learn.org\r\n",
        "\r\n",
        "Dokumentacja/User Guide: https://scikit-learn.org/stable/user_guide.html\r\n",
        "\r\n",
        "Podstawowa biblioteka do uczenia maszynowego w języku Python.\r\n",
        "\r\n",
        "Aby zainstalować bibliotekę scikit-learn, użyj polecenia poniżej:\r\n",
        "\r\n",
        "`!pip install scikit-learn`\r\n",
        "\r\n",
        "Aby zaktualizować do najnowszej wersji bibliotekę scikit-learn, użyj polecenia poniżej:\r\n",
        "\r\n",
        "`!pip install --upgrade scikit-learn`\r\n",
        "\r\n",
        "Kurs stworzony w oparciu o wersję 0.22.1\r\n",
        "\r\n",
        "###Spis treści\r\n",
        "1. [Import bibliotek](#0)\r\n",
        "2. [Załadowanie danych](#1)\r\n",
        "3. [Utworzenie kopii danych](#2)\r\n",
        "4. [Generowanie nowych zmiennych](#3)\r\n",
        "5. [Dyskretyzacja zmiennej ciągłej](#4)\r\n",
        "6. [Ekstrakcja cech](#5)"
      ]
    },
    {
      "cell_type": "markdown",
      "metadata": {
        "id": "y4xhSJL-u7Lo"
      },
      "source": [
        "###<a name=\"0\"></a>Import bibliotek"
      ]
    },
    {
      "cell_type": "code",
      "metadata": {
        "colab": {
          "base_uri": "https://localhost:8080/",
          "height": 36
        },
        "id": "PUeujy-WuNHU",
        "outputId": "17ce4ddd-aedb-4100-9346-b4d0c1709560"
      },
      "source": [
        "import numpy as np\r\n",
        "import pandas as pd\r\n",
        "import sklearn\r\n",
        "\r\n",
        "sklearn.__version__"
      ],
      "execution_count": 1,
      "outputs": [
        {
          "output_type": "execute_result",
          "data": {
            "application/vnd.google.colaboratory.intrinsic+json": {
              "type": "string"
            },
            "text/plain": [
              "'0.22.2.post1'"
            ]
          },
          "metadata": {
            "tags": []
          },
          "execution_count": 1
        }
      ]
    },
    {
      "cell_type": "markdown",
      "metadata": {
        "id": "RbjlMHG1vEKv"
      },
      "source": [
        "###<a name=\"1\"></a>Załadowanie danyc"
      ]
    },
    {
      "cell_type": "code",
      "metadata": {
        "colab": {
          "base_uri": "https://localhost:8080/",
          "height": 238
        },
        "id": "KCe2TeQIvglo",
        "outputId": "d317fd4f-11bf-4609-9dff-e31842e86e0c"
      },
      "source": [
        "def fetch_financial_data(company='AMZN'):\r\n",
        "    \"\"\"\r\n",
        "    This function fetches stock market quotations.\r\n",
        "    \"\"\"\r\n",
        "    import pandas_datareader.data as web\r\n",
        "    return web.DataReader(name=company, data_source='stooq')\r\n",
        "\r\n",
        "df_raw = fetch_financial_data()\r\n",
        "df_raw.head()"
      ],
      "execution_count": 3,
      "outputs": [
        {
          "output_type": "execute_result",
          "data": {
            "text/html": [
              "<div>\n",
              "<style scoped>\n",
              "    .dataframe tbody tr th:only-of-type {\n",
              "        vertical-align: middle;\n",
              "    }\n",
              "\n",
              "    .dataframe tbody tr th {\n",
              "        vertical-align: top;\n",
              "    }\n",
              "\n",
              "    .dataframe thead th {\n",
              "        text-align: right;\n",
              "    }\n",
              "</style>\n",
              "<table border=\"1\" class=\"dataframe\">\n",
              "  <thead>\n",
              "    <tr style=\"text-align: right;\">\n",
              "      <th></th>\n",
              "      <th>Open</th>\n",
              "      <th>High</th>\n",
              "      <th>Low</th>\n",
              "      <th>Close</th>\n",
              "      <th>Volume</th>\n",
              "    </tr>\n",
              "    <tr>\n",
              "      <th>Date</th>\n",
              "      <th></th>\n",
              "      <th></th>\n",
              "      <th></th>\n",
              "      <th></th>\n",
              "      <th></th>\n",
              "    </tr>\n",
              "  </thead>\n",
              "  <tbody>\n",
              "    <tr>\n",
              "      <th>2020-12-31</th>\n",
              "      <td>3275.00</td>\n",
              "      <td>3282.9219</td>\n",
              "      <td>3241.200</td>\n",
              "      <td>3256.93</td>\n",
              "      <td>2957206</td>\n",
              "    </tr>\n",
              "    <tr>\n",
              "      <th>2020-12-30</th>\n",
              "      <td>3341.00</td>\n",
              "      <td>3342.1000</td>\n",
              "      <td>3282.470</td>\n",
              "      <td>3285.85</td>\n",
              "      <td>3209310</td>\n",
              "    </tr>\n",
              "    <tr>\n",
              "      <th>2020-12-29</th>\n",
              "      <td>3309.94</td>\n",
              "      <td>3350.6500</td>\n",
              "      <td>3281.223</td>\n",
              "      <td>3322.00</td>\n",
              "      <td>4872933</td>\n",
              "    </tr>\n",
              "    <tr>\n",
              "      <th>2020-12-28</th>\n",
              "      <td>3194.00</td>\n",
              "      <td>3304.0000</td>\n",
              "      <td>3172.690</td>\n",
              "      <td>3283.96</td>\n",
              "      <td>5686787</td>\n",
              "    </tr>\n",
              "    <tr>\n",
              "      <th>2020-12-24</th>\n",
              "      <td>3193.90</td>\n",
              "      <td>3202.0000</td>\n",
              "      <td>3169.000</td>\n",
              "      <td>3172.69</td>\n",
              "      <td>1451917</td>\n",
              "    </tr>\n",
              "  </tbody>\n",
              "</table>\n",
              "</div>"
            ],
            "text/plain": [
              "               Open       High       Low    Close   Volume\n",
              "Date                                                      \n",
              "2020-12-31  3275.00  3282.9219  3241.200  3256.93  2957206\n",
              "2020-12-30  3341.00  3342.1000  3282.470  3285.85  3209310\n",
              "2020-12-29  3309.94  3350.6500  3281.223  3322.00  4872933\n",
              "2020-12-28  3194.00  3304.0000  3172.690  3283.96  5686787\n",
              "2020-12-24  3193.90  3202.0000  3169.000  3172.69  1451917"
            ]
          },
          "metadata": {
            "tags": []
          },
          "execution_count": 3
        }
      ]
    },
    {
      "cell_type": "markdown",
      "metadata": {
        "id": "wC6QrP58vHgC"
      },
      "source": [
        "###<a name=\"2\"></a>Utworzenie kopii danych"
      ]
    },
    {
      "cell_type": "code",
      "metadata": {
        "colab": {
          "base_uri": "https://localhost:8080/"
        },
        "id": "sKznEBzevry_",
        "outputId": "24b897c1-bf40-40c0-af57-6da9d39387e6"
      },
      "source": [
        "df = df_raw.copy()\r\n",
        "df = df[:5]\r\n",
        "df.info()"
      ],
      "execution_count": 4,
      "outputs": [
        {
          "output_type": "stream",
          "text": [
            "<class 'pandas.core.frame.DataFrame'>\n",
            "DatetimeIndex: 5 entries, 2020-12-31 to 2020-12-24\n",
            "Data columns (total 5 columns):\n",
            " #   Column  Non-Null Count  Dtype  \n",
            "---  ------  --------------  -----  \n",
            " 0   Open    5 non-null      float64\n",
            " 1   High    5 non-null      float64\n",
            " 2   Low     5 non-null      float64\n",
            " 3   Close   5 non-null      float64\n",
            " 4   Volume  5 non-null      int64  \n",
            "dtypes: float64(4), int64(1)\n",
            "memory usage: 240.0 bytes\n"
          ],
          "name": "stdout"
        }
      ]
    },
    {
      "cell_type": "markdown",
      "metadata": {
        "id": "YxZct3HLvMvY"
      },
      "source": [
        "###<a name=\"3\"></a>Generowanie nowych zmiennych"
      ]
    },
    {
      "cell_type": "code",
      "metadata": {
        "colab": {
          "base_uri": "https://localhost:8080/"
        },
        "id": "NFcQOxbav5YX",
        "outputId": "6f0c24ce-0ac9-4637-875a-54ecfe552e34"
      },
      "source": [
        "df.index.day"
      ],
      "execution_count": 7,
      "outputs": [
        {
          "output_type": "execute_result",
          "data": {
            "text/plain": [
              "Int64Index([31, 30, 29, 28, 24], dtype='int64', name='Date')"
            ]
          },
          "metadata": {
            "tags": []
          },
          "execution_count": 7
        }
      ]
    },
    {
      "cell_type": "code",
      "metadata": {
        "colab": {
          "base_uri": "https://localhost:8080/",
          "height": 238
        },
        "id": "NPmSA20AwCUh",
        "outputId": "fb4c621a-d72c-456d-e95c-a1a5490cdd6f"
      },
      "source": [
        "df['day'] = df.index.day\r\n",
        "df['month'] = df.index.month\r\n",
        "df['year'] = df.index.year\r\n",
        "df"
      ],
      "execution_count": 6,
      "outputs": [
        {
          "output_type": "execute_result",
          "data": {
            "text/html": [
              "<div>\n",
              "<style scoped>\n",
              "    .dataframe tbody tr th:only-of-type {\n",
              "        vertical-align: middle;\n",
              "    }\n",
              "\n",
              "    .dataframe tbody tr th {\n",
              "        vertical-align: top;\n",
              "    }\n",
              "\n",
              "    .dataframe thead th {\n",
              "        text-align: right;\n",
              "    }\n",
              "</style>\n",
              "<table border=\"1\" class=\"dataframe\">\n",
              "  <thead>\n",
              "    <tr style=\"text-align: right;\">\n",
              "      <th></th>\n",
              "      <th>Open</th>\n",
              "      <th>High</th>\n",
              "      <th>Low</th>\n",
              "      <th>Close</th>\n",
              "      <th>Volume</th>\n",
              "      <th>day</th>\n",
              "      <th>month</th>\n",
              "      <th>year</th>\n",
              "    </tr>\n",
              "    <tr>\n",
              "      <th>Date</th>\n",
              "      <th></th>\n",
              "      <th></th>\n",
              "      <th></th>\n",
              "      <th></th>\n",
              "      <th></th>\n",
              "      <th></th>\n",
              "      <th></th>\n",
              "      <th></th>\n",
              "    </tr>\n",
              "  </thead>\n",
              "  <tbody>\n",
              "    <tr>\n",
              "      <th>2020-12-31</th>\n",
              "      <td>3275.00</td>\n",
              "      <td>3282.9219</td>\n",
              "      <td>3241.200</td>\n",
              "      <td>3256.93</td>\n",
              "      <td>2957206</td>\n",
              "      <td>31</td>\n",
              "      <td>12</td>\n",
              "      <td>2020</td>\n",
              "    </tr>\n",
              "    <tr>\n",
              "      <th>2020-12-30</th>\n",
              "      <td>3341.00</td>\n",
              "      <td>3342.1000</td>\n",
              "      <td>3282.470</td>\n",
              "      <td>3285.85</td>\n",
              "      <td>3209310</td>\n",
              "      <td>30</td>\n",
              "      <td>12</td>\n",
              "      <td>2020</td>\n",
              "    </tr>\n",
              "    <tr>\n",
              "      <th>2020-12-29</th>\n",
              "      <td>3309.94</td>\n",
              "      <td>3350.6500</td>\n",
              "      <td>3281.223</td>\n",
              "      <td>3322.00</td>\n",
              "      <td>4872933</td>\n",
              "      <td>29</td>\n",
              "      <td>12</td>\n",
              "      <td>2020</td>\n",
              "    </tr>\n",
              "    <tr>\n",
              "      <th>2020-12-28</th>\n",
              "      <td>3194.00</td>\n",
              "      <td>3304.0000</td>\n",
              "      <td>3172.690</td>\n",
              "      <td>3283.96</td>\n",
              "      <td>5686787</td>\n",
              "      <td>28</td>\n",
              "      <td>12</td>\n",
              "      <td>2020</td>\n",
              "    </tr>\n",
              "    <tr>\n",
              "      <th>2020-12-24</th>\n",
              "      <td>3193.90</td>\n",
              "      <td>3202.0000</td>\n",
              "      <td>3169.000</td>\n",
              "      <td>3172.69</td>\n",
              "      <td>1451917</td>\n",
              "      <td>24</td>\n",
              "      <td>12</td>\n",
              "      <td>2020</td>\n",
              "    </tr>\n",
              "  </tbody>\n",
              "</table>\n",
              "</div>"
            ],
            "text/plain": [
              "               Open       High       Low    Close   Volume  day  month  year\n",
              "Date                                                                        \n",
              "2020-12-31  3275.00  3282.9219  3241.200  3256.93  2957206   31     12  2020\n",
              "2020-12-30  3341.00  3342.1000  3282.470  3285.85  3209310   30     12  2020\n",
              "2020-12-29  3309.94  3350.6500  3281.223  3322.00  4872933   29     12  2020\n",
              "2020-12-28  3194.00  3304.0000  3172.690  3283.96  5686787   28     12  2020\n",
              "2020-12-24  3193.90  3202.0000  3169.000  3172.69  1451917   24     12  2020"
            ]
          },
          "metadata": {
            "tags": []
          },
          "execution_count": 6
        }
      ]
    },
    {
      "cell_type": "markdown",
      "metadata": {
        "id": "K6D2ZCfVvQup"
      },
      "source": [
        "###<a name=\"4\"></a>Dyskretyzacja zmiennej ciągłej"
      ]
    },
    {
      "cell_type": "code",
      "metadata": {
        "id": "YU1zKLjEMBBi",
        "outputId": "a6f6840d-c370-4e93-d0dd-b58c85b0e876",
        "colab": {
          "base_uri": "https://localhost:8080/",
          "height": 269
        }
      },
      "source": [
        "df = pd.DataFrame(data={'height':[175.,178.5,185.,191.,184.5,183.,168.]})\r\n",
        "df"
      ],
      "execution_count": 8,
      "outputs": [
        {
          "output_type": "execute_result",
          "data": {
            "text/html": [
              "<div>\n",
              "<style scoped>\n",
              "    .dataframe tbody tr th:only-of-type {\n",
              "        vertical-align: middle;\n",
              "    }\n",
              "\n",
              "    .dataframe tbody tr th {\n",
              "        vertical-align: top;\n",
              "    }\n",
              "\n",
              "    .dataframe thead th {\n",
              "        text-align: right;\n",
              "    }\n",
              "</style>\n",
              "<table border=\"1\" class=\"dataframe\">\n",
              "  <thead>\n",
              "    <tr style=\"text-align: right;\">\n",
              "      <th></th>\n",
              "      <th>height</th>\n",
              "    </tr>\n",
              "  </thead>\n",
              "  <tbody>\n",
              "    <tr>\n",
              "      <th>0</th>\n",
              "      <td>175.0</td>\n",
              "    </tr>\n",
              "    <tr>\n",
              "      <th>1</th>\n",
              "      <td>178.5</td>\n",
              "    </tr>\n",
              "    <tr>\n",
              "      <th>2</th>\n",
              "      <td>185.0</td>\n",
              "    </tr>\n",
              "    <tr>\n",
              "      <th>3</th>\n",
              "      <td>191.0</td>\n",
              "    </tr>\n",
              "    <tr>\n",
              "      <th>4</th>\n",
              "      <td>184.5</td>\n",
              "    </tr>\n",
              "    <tr>\n",
              "      <th>5</th>\n",
              "      <td>183.0</td>\n",
              "    </tr>\n",
              "    <tr>\n",
              "      <th>6</th>\n",
              "      <td>168.0</td>\n",
              "    </tr>\n",
              "  </tbody>\n",
              "</table>\n",
              "</div>"
            ],
            "text/plain": [
              "   height\n",
              "0   175.0\n",
              "1   178.5\n",
              "2   185.0\n",
              "3   191.0\n",
              "4   184.5\n",
              "5   183.0\n",
              "6   168.0"
            ]
          },
          "metadata": {
            "tags": []
          },
          "execution_count": 8
        }
      ]
    },
    {
      "cell_type": "markdown",
      "metadata": {
        "id": "pG1le0qGM0B5"
      },
      "source": [
        "Podział zmiennej, na zmienne kategoryczne, w rezultacie dostajemy przedziały do jakich zostala przydzielona zmienna"
      ]
    },
    {
      "cell_type": "code",
      "metadata": {
        "id": "wrZkQ6p4MTQq",
        "outputId": "986b50b1-2e3b-43ca-a305-630337b9abe1",
        "colab": {
          "base_uri": "https://localhost:8080/",
          "height": 269
        }
      },
      "source": [
        "df['height_cat'] = pd.cut(x=df.height, bins=3)\r\n",
        "df"
      ],
      "execution_count": 10,
      "outputs": [
        {
          "output_type": "execute_result",
          "data": {
            "text/html": [
              "<div>\n",
              "<style scoped>\n",
              "    .dataframe tbody tr th:only-of-type {\n",
              "        vertical-align: middle;\n",
              "    }\n",
              "\n",
              "    .dataframe tbody tr th {\n",
              "        vertical-align: top;\n",
              "    }\n",
              "\n",
              "    .dataframe thead th {\n",
              "        text-align: right;\n",
              "    }\n",
              "</style>\n",
              "<table border=\"1\" class=\"dataframe\">\n",
              "  <thead>\n",
              "    <tr style=\"text-align: right;\">\n",
              "      <th></th>\n",
              "      <th>height</th>\n",
              "      <th>height_cat</th>\n",
              "    </tr>\n",
              "  </thead>\n",
              "  <tbody>\n",
              "    <tr>\n",
              "      <th>0</th>\n",
              "      <td>175.0</td>\n",
              "      <td>(167.977, 175.667]</td>\n",
              "    </tr>\n",
              "    <tr>\n",
              "      <th>1</th>\n",
              "      <td>178.5</td>\n",
              "      <td>(175.667, 183.333]</td>\n",
              "    </tr>\n",
              "    <tr>\n",
              "      <th>2</th>\n",
              "      <td>185.0</td>\n",
              "      <td>(183.333, 191.0]</td>\n",
              "    </tr>\n",
              "    <tr>\n",
              "      <th>3</th>\n",
              "      <td>191.0</td>\n",
              "      <td>(183.333, 191.0]</td>\n",
              "    </tr>\n",
              "    <tr>\n",
              "      <th>4</th>\n",
              "      <td>184.5</td>\n",
              "      <td>(183.333, 191.0]</td>\n",
              "    </tr>\n",
              "    <tr>\n",
              "      <th>5</th>\n",
              "      <td>183.0</td>\n",
              "      <td>(175.667, 183.333]</td>\n",
              "    </tr>\n",
              "    <tr>\n",
              "      <th>6</th>\n",
              "      <td>168.0</td>\n",
              "      <td>(167.977, 175.667]</td>\n",
              "    </tr>\n",
              "  </tbody>\n",
              "</table>\n",
              "</div>"
            ],
            "text/plain": [
              "   height          height_cat\n",
              "0   175.0  (167.977, 175.667]\n",
              "1   178.5  (175.667, 183.333]\n",
              "2   185.0    (183.333, 191.0]\n",
              "3   191.0    (183.333, 191.0]\n",
              "4   184.5    (183.333, 191.0]\n",
              "5   183.0  (175.667, 183.333]\n",
              "6   168.0  (167.977, 175.667]"
            ]
          },
          "metadata": {
            "tags": []
          },
          "execution_count": 10
        }
      ]
    },
    {
      "cell_type": "code",
      "metadata": {
        "id": "fDoALWWzNs6p",
        "outputId": "7ef129af-28a0-4904-d1ba-00f8646248b4",
        "colab": {
          "base_uri": "https://localhost:8080/",
          "height": 269
        }
      },
      "source": [
        "df['height_cat'] = pd.cut(x=df.height, bins=(160,175,180,195))\r\n",
        "df"
      ],
      "execution_count": 14,
      "outputs": [
        {
          "output_type": "execute_result",
          "data": {
            "text/html": [
              "<div>\n",
              "<style scoped>\n",
              "    .dataframe tbody tr th:only-of-type {\n",
              "        vertical-align: middle;\n",
              "    }\n",
              "\n",
              "    .dataframe tbody tr th {\n",
              "        vertical-align: top;\n",
              "    }\n",
              "\n",
              "    .dataframe thead th {\n",
              "        text-align: right;\n",
              "    }\n",
              "</style>\n",
              "<table border=\"1\" class=\"dataframe\">\n",
              "  <thead>\n",
              "    <tr style=\"text-align: right;\">\n",
              "      <th></th>\n",
              "      <th>height</th>\n",
              "      <th>height_cat</th>\n",
              "    </tr>\n",
              "  </thead>\n",
              "  <tbody>\n",
              "    <tr>\n",
              "      <th>0</th>\n",
              "      <td>175.0</td>\n",
              "      <td>(160, 175]</td>\n",
              "    </tr>\n",
              "    <tr>\n",
              "      <th>1</th>\n",
              "      <td>178.5</td>\n",
              "      <td>(175, 180]</td>\n",
              "    </tr>\n",
              "    <tr>\n",
              "      <th>2</th>\n",
              "      <td>185.0</td>\n",
              "      <td>(180, 195]</td>\n",
              "    </tr>\n",
              "    <tr>\n",
              "      <th>3</th>\n",
              "      <td>191.0</td>\n",
              "      <td>(180, 195]</td>\n",
              "    </tr>\n",
              "    <tr>\n",
              "      <th>4</th>\n",
              "      <td>184.5</td>\n",
              "      <td>(180, 195]</td>\n",
              "    </tr>\n",
              "    <tr>\n",
              "      <th>5</th>\n",
              "      <td>183.0</td>\n",
              "      <td>(180, 195]</td>\n",
              "    </tr>\n",
              "    <tr>\n",
              "      <th>6</th>\n",
              "      <td>168.0</td>\n",
              "      <td>(160, 175]</td>\n",
              "    </tr>\n",
              "  </tbody>\n",
              "</table>\n",
              "</div>"
            ],
            "text/plain": [
              "   height  height_cat\n",
              "0   175.0  (160, 175]\n",
              "1   178.5  (175, 180]\n",
              "2   185.0  (180, 195]\n",
              "3   191.0  (180, 195]\n",
              "4   184.5  (180, 195]\n",
              "5   183.0  (180, 195]\n",
              "6   168.0  (160, 175]"
            ]
          },
          "metadata": {
            "tags": []
          },
          "execution_count": 14
        }
      ]
    },
    {
      "cell_type": "code",
      "metadata": {
        "id": "-3buhahsM8_w",
        "outputId": "53b732e1-a244-4e1f-f209-1782e1c31b29",
        "colab": {
          "base_uri": "https://localhost:8080/",
          "height": 269
        }
      },
      "source": [
        "df['height_cat'] = pd.cut(x=df.height, bins=(160,175,180,195), labels=['small', 'medium', 'high'])\r\n",
        "df"
      ],
      "execution_count": 15,
      "outputs": [
        {
          "output_type": "execute_result",
          "data": {
            "text/html": [
              "<div>\n",
              "<style scoped>\n",
              "    .dataframe tbody tr th:only-of-type {\n",
              "        vertical-align: middle;\n",
              "    }\n",
              "\n",
              "    .dataframe tbody tr th {\n",
              "        vertical-align: top;\n",
              "    }\n",
              "\n",
              "    .dataframe thead th {\n",
              "        text-align: right;\n",
              "    }\n",
              "</style>\n",
              "<table border=\"1\" class=\"dataframe\">\n",
              "  <thead>\n",
              "    <tr style=\"text-align: right;\">\n",
              "      <th></th>\n",
              "      <th>height</th>\n",
              "      <th>height_cat</th>\n",
              "    </tr>\n",
              "  </thead>\n",
              "  <tbody>\n",
              "    <tr>\n",
              "      <th>0</th>\n",
              "      <td>175.0</td>\n",
              "      <td>small</td>\n",
              "    </tr>\n",
              "    <tr>\n",
              "      <th>1</th>\n",
              "      <td>178.5</td>\n",
              "      <td>medium</td>\n",
              "    </tr>\n",
              "    <tr>\n",
              "      <th>2</th>\n",
              "      <td>185.0</td>\n",
              "      <td>high</td>\n",
              "    </tr>\n",
              "    <tr>\n",
              "      <th>3</th>\n",
              "      <td>191.0</td>\n",
              "      <td>high</td>\n",
              "    </tr>\n",
              "    <tr>\n",
              "      <th>4</th>\n",
              "      <td>184.5</td>\n",
              "      <td>high</td>\n",
              "    </tr>\n",
              "    <tr>\n",
              "      <th>5</th>\n",
              "      <td>183.0</td>\n",
              "      <td>high</td>\n",
              "    </tr>\n",
              "    <tr>\n",
              "      <th>6</th>\n",
              "      <td>168.0</td>\n",
              "      <td>small</td>\n",
              "    </tr>\n",
              "  </tbody>\n",
              "</table>\n",
              "</div>"
            ],
            "text/plain": [
              "   height height_cat\n",
              "0   175.0      small\n",
              "1   178.5     medium\n",
              "2   185.0       high\n",
              "3   191.0       high\n",
              "4   184.5       high\n",
              "5   183.0       high\n",
              "6   168.0      small"
            ]
          },
          "metadata": {
            "tags": []
          },
          "execution_count": 15
        }
      ]
    },
    {
      "cell_type": "code",
      "metadata": {
        "id": "0KOCIMUtN3Ip",
        "outputId": "a38e6fcf-de37-4e7b-e381-8d932574131a",
        "colab": {
          "base_uri": "https://localhost:8080/",
          "height": 269
        }
      },
      "source": [
        "pd.get_dummies(df, drop_first=True, prefix='height')"
      ],
      "execution_count": 17,
      "outputs": [
        {
          "output_type": "execute_result",
          "data": {
            "text/html": [
              "<div>\n",
              "<style scoped>\n",
              "    .dataframe tbody tr th:only-of-type {\n",
              "        vertical-align: middle;\n",
              "    }\n",
              "\n",
              "    .dataframe tbody tr th {\n",
              "        vertical-align: top;\n",
              "    }\n",
              "\n",
              "    .dataframe thead th {\n",
              "        text-align: right;\n",
              "    }\n",
              "</style>\n",
              "<table border=\"1\" class=\"dataframe\">\n",
              "  <thead>\n",
              "    <tr style=\"text-align: right;\">\n",
              "      <th></th>\n",
              "      <th>height</th>\n",
              "      <th>height_medium</th>\n",
              "      <th>height_high</th>\n",
              "    </tr>\n",
              "  </thead>\n",
              "  <tbody>\n",
              "    <tr>\n",
              "      <th>0</th>\n",
              "      <td>175.0</td>\n",
              "      <td>0</td>\n",
              "      <td>0</td>\n",
              "    </tr>\n",
              "    <tr>\n",
              "      <th>1</th>\n",
              "      <td>178.5</td>\n",
              "      <td>1</td>\n",
              "      <td>0</td>\n",
              "    </tr>\n",
              "    <tr>\n",
              "      <th>2</th>\n",
              "      <td>185.0</td>\n",
              "      <td>0</td>\n",
              "      <td>1</td>\n",
              "    </tr>\n",
              "    <tr>\n",
              "      <th>3</th>\n",
              "      <td>191.0</td>\n",
              "      <td>0</td>\n",
              "      <td>1</td>\n",
              "    </tr>\n",
              "    <tr>\n",
              "      <th>4</th>\n",
              "      <td>184.5</td>\n",
              "      <td>0</td>\n",
              "      <td>1</td>\n",
              "    </tr>\n",
              "    <tr>\n",
              "      <th>5</th>\n",
              "      <td>183.0</td>\n",
              "      <td>0</td>\n",
              "      <td>1</td>\n",
              "    </tr>\n",
              "    <tr>\n",
              "      <th>6</th>\n",
              "      <td>168.0</td>\n",
              "      <td>0</td>\n",
              "      <td>0</td>\n",
              "    </tr>\n",
              "  </tbody>\n",
              "</table>\n",
              "</div>"
            ],
            "text/plain": [
              "   height  height_medium  height_high\n",
              "0   175.0              0            0\n",
              "1   178.5              1            0\n",
              "2   185.0              0            1\n",
              "3   191.0              0            1\n",
              "4   184.5              0            1\n",
              "5   183.0              0            1\n",
              "6   168.0              0            0"
            ]
          },
          "metadata": {
            "tags": []
          },
          "execution_count": 17
        }
      ]
    },
    {
      "cell_type": "markdown",
      "metadata": {
        "id": "Q49jQPWovWWg"
      },
      "source": [
        "###<a name=\"5\"></a>Ekstrakcja cech"
      ]
    },
    {
      "cell_type": "code",
      "metadata": {
        "id": "jndTP7h0ORdj",
        "outputId": "59fcdfae-c175-4d8e-f677-f7c2d0d20b6f",
        "colab": {
          "base_uri": "https://localhost:8080/",
          "height": 143
        }
      },
      "source": [
        "df = pd.DataFrame(data={'lang':[['PL','ENG'], ['GER', 'ENG', 'PL', 'FRA'], ['RUS']]})\r\n",
        "df"
      ],
      "execution_count": 18,
      "outputs": [
        {
          "output_type": "execute_result",
          "data": {
            "text/html": [
              "<div>\n",
              "<style scoped>\n",
              "    .dataframe tbody tr th:only-of-type {\n",
              "        vertical-align: middle;\n",
              "    }\n",
              "\n",
              "    .dataframe tbody tr th {\n",
              "        vertical-align: top;\n",
              "    }\n",
              "\n",
              "    .dataframe thead th {\n",
              "        text-align: right;\n",
              "    }\n",
              "</style>\n",
              "<table border=\"1\" class=\"dataframe\">\n",
              "  <thead>\n",
              "    <tr style=\"text-align: right;\">\n",
              "      <th></th>\n",
              "      <th>lang</th>\n",
              "    </tr>\n",
              "  </thead>\n",
              "  <tbody>\n",
              "    <tr>\n",
              "      <th>0</th>\n",
              "      <td>[PL, ENG]</td>\n",
              "    </tr>\n",
              "    <tr>\n",
              "      <th>1</th>\n",
              "      <td>[GER, ENG, PL, FRA]</td>\n",
              "    </tr>\n",
              "    <tr>\n",
              "      <th>2</th>\n",
              "      <td>[RUS]</td>\n",
              "    </tr>\n",
              "  </tbody>\n",
              "</table>\n",
              "</div>"
            ],
            "text/plain": [
              "                  lang\n",
              "0            [PL, ENG]\n",
              "1  [GER, ENG, PL, FRA]\n",
              "2                [RUS]"
            ]
          },
          "metadata": {
            "tags": []
          },
          "execution_count": 18
        }
      ]
    },
    {
      "cell_type": "code",
      "metadata": {
        "id": "-hDt4BypOjNl",
        "outputId": "3b53712b-4464-459e-84ef-e48e17079d56",
        "colab": {
          "base_uri": "https://localhost:8080/",
          "height": 143
        }
      },
      "source": [
        "df['lang_number'] = df['lang'].apply(len)\r\n",
        "df"
      ],
      "execution_count": 19,
      "outputs": [
        {
          "output_type": "execute_result",
          "data": {
            "text/html": [
              "<div>\n",
              "<style scoped>\n",
              "    .dataframe tbody tr th:only-of-type {\n",
              "        vertical-align: middle;\n",
              "    }\n",
              "\n",
              "    .dataframe tbody tr th {\n",
              "        vertical-align: top;\n",
              "    }\n",
              "\n",
              "    .dataframe thead th {\n",
              "        text-align: right;\n",
              "    }\n",
              "</style>\n",
              "<table border=\"1\" class=\"dataframe\">\n",
              "  <thead>\n",
              "    <tr style=\"text-align: right;\">\n",
              "      <th></th>\n",
              "      <th>lang</th>\n",
              "      <th>lang_number</th>\n",
              "    </tr>\n",
              "  </thead>\n",
              "  <tbody>\n",
              "    <tr>\n",
              "      <th>0</th>\n",
              "      <td>[PL, ENG]</td>\n",
              "      <td>2</td>\n",
              "    </tr>\n",
              "    <tr>\n",
              "      <th>1</th>\n",
              "      <td>[GER, ENG, PL, FRA]</td>\n",
              "      <td>4</td>\n",
              "    </tr>\n",
              "    <tr>\n",
              "      <th>2</th>\n",
              "      <td>[RUS]</td>\n",
              "      <td>1</td>\n",
              "    </tr>\n",
              "  </tbody>\n",
              "</table>\n",
              "</div>"
            ],
            "text/plain": [
              "                  lang  lang_number\n",
              "0            [PL, ENG]            2\n",
              "1  [GER, ENG, PL, FRA]            4\n",
              "2                [RUS]            1"
            ]
          },
          "metadata": {
            "tags": []
          },
          "execution_count": 19
        }
      ]
    },
    {
      "cell_type": "code",
      "metadata": {
        "id": "uIQpNTUmOy3d",
        "outputId": "674fb91b-b434-401f-d8b1-89aebd812795",
        "colab": {
          "base_uri": "https://localhost:8080/",
          "height": 143
        }
      },
      "source": [
        "df['PL_flag'] = df['lang'].apply(lambda x: 1 if 'PL' in x else 0)\r\n",
        "df"
      ],
      "execution_count": 20,
      "outputs": [
        {
          "output_type": "execute_result",
          "data": {
            "text/html": [
              "<div>\n",
              "<style scoped>\n",
              "    .dataframe tbody tr th:only-of-type {\n",
              "        vertical-align: middle;\n",
              "    }\n",
              "\n",
              "    .dataframe tbody tr th {\n",
              "        vertical-align: top;\n",
              "    }\n",
              "\n",
              "    .dataframe thead th {\n",
              "        text-align: right;\n",
              "    }\n",
              "</style>\n",
              "<table border=\"1\" class=\"dataframe\">\n",
              "  <thead>\n",
              "    <tr style=\"text-align: right;\">\n",
              "      <th></th>\n",
              "      <th>lang</th>\n",
              "      <th>lang_number</th>\n",
              "      <th>PL_flag</th>\n",
              "    </tr>\n",
              "  </thead>\n",
              "  <tbody>\n",
              "    <tr>\n",
              "      <th>0</th>\n",
              "      <td>[PL, ENG]</td>\n",
              "      <td>2</td>\n",
              "      <td>1</td>\n",
              "    </tr>\n",
              "    <tr>\n",
              "      <th>1</th>\n",
              "      <td>[GER, ENG, PL, FRA]</td>\n",
              "      <td>4</td>\n",
              "      <td>1</td>\n",
              "    </tr>\n",
              "    <tr>\n",
              "      <th>2</th>\n",
              "      <td>[RUS]</td>\n",
              "      <td>1</td>\n",
              "      <td>0</td>\n",
              "    </tr>\n",
              "  </tbody>\n",
              "</table>\n",
              "</div>"
            ],
            "text/plain": [
              "                  lang  lang_number  PL_flag\n",
              "0            [PL, ENG]            2        1\n",
              "1  [GER, ENG, PL, FRA]            4        1\n",
              "2                [RUS]            1        0"
            ]
          },
          "metadata": {
            "tags": []
          },
          "execution_count": 20
        }
      ]
    },
    {
      "cell_type": "code",
      "metadata": {
        "id": "yI1zgkcwO_mc",
        "outputId": "b8242636-912e-4f6b-f0ad-856d3b7db32a",
        "colab": {
          "base_uri": "https://localhost:8080/",
          "height": 143
        }
      },
      "source": [
        "df = pd.DataFrame(data={'website':['wp.pl', 'onet.pl', 'google.com']})\r\n",
        "df"
      ],
      "execution_count": 21,
      "outputs": [
        {
          "output_type": "execute_result",
          "data": {
            "text/html": [
              "<div>\n",
              "<style scoped>\n",
              "    .dataframe tbody tr th:only-of-type {\n",
              "        vertical-align: middle;\n",
              "    }\n",
              "\n",
              "    .dataframe tbody tr th {\n",
              "        vertical-align: top;\n",
              "    }\n",
              "\n",
              "    .dataframe thead th {\n",
              "        text-align: right;\n",
              "    }\n",
              "</style>\n",
              "<table border=\"1\" class=\"dataframe\">\n",
              "  <thead>\n",
              "    <tr style=\"text-align: right;\">\n",
              "      <th></th>\n",
              "      <th>website</th>\n",
              "    </tr>\n",
              "  </thead>\n",
              "  <tbody>\n",
              "    <tr>\n",
              "      <th>0</th>\n",
              "      <td>wp.pl</td>\n",
              "    </tr>\n",
              "    <tr>\n",
              "      <th>1</th>\n",
              "      <td>onet.pl</td>\n",
              "    </tr>\n",
              "    <tr>\n",
              "      <th>2</th>\n",
              "      <td>google.com</td>\n",
              "    </tr>\n",
              "  </tbody>\n",
              "</table>\n",
              "</div>"
            ],
            "text/plain": [
              "      website\n",
              "0       wp.pl\n",
              "1     onet.pl\n",
              "2  google.com"
            ]
          },
          "metadata": {
            "tags": []
          },
          "execution_count": 21
        }
      ]
    },
    {
      "cell_type": "code",
      "metadata": {
        "id": "VGRXi7N-PPN9",
        "outputId": "477fe7c1-fdbe-43a6-8eb7-db1c8177610e",
        "colab": {
          "base_uri": "https://localhost:8080/",
          "height": 143
        }
      },
      "source": [
        "df.website.str.split('.', expand=True)"
      ],
      "execution_count": 22,
      "outputs": [
        {
          "output_type": "execute_result",
          "data": {
            "text/html": [
              "<div>\n",
              "<style scoped>\n",
              "    .dataframe tbody tr th:only-of-type {\n",
              "        vertical-align: middle;\n",
              "    }\n",
              "\n",
              "    .dataframe tbody tr th {\n",
              "        vertical-align: top;\n",
              "    }\n",
              "\n",
              "    .dataframe thead th {\n",
              "        text-align: right;\n",
              "    }\n",
              "</style>\n",
              "<table border=\"1\" class=\"dataframe\">\n",
              "  <thead>\n",
              "    <tr style=\"text-align: right;\">\n",
              "      <th></th>\n",
              "      <th>0</th>\n",
              "      <th>1</th>\n",
              "    </tr>\n",
              "  </thead>\n",
              "  <tbody>\n",
              "    <tr>\n",
              "      <th>0</th>\n",
              "      <td>wp</td>\n",
              "      <td>pl</td>\n",
              "    </tr>\n",
              "    <tr>\n",
              "      <th>1</th>\n",
              "      <td>onet</td>\n",
              "      <td>pl</td>\n",
              "    </tr>\n",
              "    <tr>\n",
              "      <th>2</th>\n",
              "      <td>google</td>\n",
              "      <td>com</td>\n",
              "    </tr>\n",
              "  </tbody>\n",
              "</table>\n",
              "</div>"
            ],
            "text/plain": [
              "        0    1\n",
              "0      wp   pl\n",
              "1    onet   pl\n",
              "2  google  com"
            ]
          },
          "metadata": {
            "tags": []
          },
          "execution_count": 22
        }
      ]
    },
    {
      "cell_type": "code",
      "metadata": {
        "id": "0m562QF-PWc9",
        "outputId": "06d4c3cc-0a4f-455b-8e67-7b3ec8de59e0",
        "colab": {
          "base_uri": "https://localhost:8080/",
          "height": 143
        }
      },
      "source": [
        "new = df.website.str.split('.', expand=True)\r\n",
        "df['portal'] = new[0]\r\n",
        "df['extension'] = new[1]\r\n",
        "df"
      ],
      "execution_count": 23,
      "outputs": [
        {
          "output_type": "execute_result",
          "data": {
            "text/html": [
              "<div>\n",
              "<style scoped>\n",
              "    .dataframe tbody tr th:only-of-type {\n",
              "        vertical-align: middle;\n",
              "    }\n",
              "\n",
              "    .dataframe tbody tr th {\n",
              "        vertical-align: top;\n",
              "    }\n",
              "\n",
              "    .dataframe thead th {\n",
              "        text-align: right;\n",
              "    }\n",
              "</style>\n",
              "<table border=\"1\" class=\"dataframe\">\n",
              "  <thead>\n",
              "    <tr style=\"text-align: right;\">\n",
              "      <th></th>\n",
              "      <th>website</th>\n",
              "      <th>portal</th>\n",
              "      <th>extension</th>\n",
              "    </tr>\n",
              "  </thead>\n",
              "  <tbody>\n",
              "    <tr>\n",
              "      <th>0</th>\n",
              "      <td>wp.pl</td>\n",
              "      <td>wp</td>\n",
              "      <td>pl</td>\n",
              "    </tr>\n",
              "    <tr>\n",
              "      <th>1</th>\n",
              "      <td>onet.pl</td>\n",
              "      <td>onet</td>\n",
              "      <td>pl</td>\n",
              "    </tr>\n",
              "    <tr>\n",
              "      <th>2</th>\n",
              "      <td>google.com</td>\n",
              "      <td>google</td>\n",
              "      <td>com</td>\n",
              "    </tr>\n",
              "  </tbody>\n",
              "</table>\n",
              "</div>"
            ],
            "text/plain": [
              "      website  portal extension\n",
              "0       wp.pl      wp        pl\n",
              "1     onet.pl    onet        pl\n",
              "2  google.com  google       com"
            ]
          },
          "metadata": {
            "tags": []
          },
          "execution_count": 23
        }
      ]
    },
    {
      "cell_type": "code",
      "metadata": {
        "id": "nEWaoOGbPt59"
      },
      "source": [
        ""
      ],
      "execution_count": null,
      "outputs": []
    }
  ]
}