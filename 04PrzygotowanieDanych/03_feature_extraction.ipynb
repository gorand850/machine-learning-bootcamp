{
  "nbformat": 4,
  "nbformat_minor": 0,
  "metadata": {
    "colab": {
      "name": "03_feature_extraction.ipynb",
      "provenance": [],
      "authorship_tag": "ABX9TyOOy1TFiSsP8AD4jtfuBljz",
      "include_colab_link": true
    },
    "kernelspec": {
      "name": "python3",
      "display_name": "Python 3"
    }
  },
  "cells": [
    {
      "cell_type": "markdown",
      "metadata": {
        "id": "view-in-github",
        "colab_type": "text"
      },
      "source": [
        "<a href=\"https://colab.research.google.com/github/gorand850/machine-learning-bootcamp/blob/main/04PrzygotowanieDanych/03_feature_extraction.ipynb\" target=\"_parent\"><img src=\"https://colab.research.google.com/assets/colab-badge.svg\" alt=\"Open In Colab\"/></a>"
      ]
    },
    {
      "cell_type": "markdown",
      "metadata": {
        "id": "ulaavt5kuU7a"
      },
      "source": [
        "#scikit-learn\r\n",
        "\r\n",
        "Strona biblioteki: https://scikit-learn.org\r\n",
        "\r\n",
        "Dokumentacja/User Guide: https://scikit-learn.org/stable/user_guide.html\r\n",
        "\r\n",
        "Podstawowa biblioteka do uczenia maszynowego w języku Python.\r\n",
        "\r\n",
        "Aby zainstalować bibliotekę scikit-learn, użyj polecenia poniżej:\r\n",
        "\r\n",
        "`!pip install scikit-learn`\r\n",
        "\r\n",
        "Aby zaktualizować do najnowszej wersji bibliotekę scikit-learn, użyj polecenia poniżej:\r\n",
        "\r\n",
        "`!pip install --upgrade scikit-learn`\r\n",
        "\r\n",
        "Kurs stworzony w oparciu o wersję 0.22.1\r\n",
        "\r\n",
        "###Spis treści\r\n",
        "1. [Import bibliotek](#0)\r\n",
        "2. [Załadowanie danych](#1)\r\n",
        "3. [Utworzenie kopii danych](#2)\r\n",
        "4. [Generowanie nowych zmiennych](#3)\r\n",
        "5. [Dyskretyzacja zmiennej ciągłej](#4)\r\n",
        "6. [Ekstrakcja cech](#5)"
      ]
    },
    {
      "cell_type": "markdown",
      "metadata": {
        "id": "y4xhSJL-u7Lo"
      },
      "source": [
        "###<a name=\"0\"></a>Import bibliotek"
      ]
    },
    {
      "cell_type": "code",
      "metadata": {
        "colab": {
          "base_uri": "https://localhost:8080/",
          "height": 36
        },
        "id": "PUeujy-WuNHU",
        "outputId": "6d875207-3a08-4caa-97d9-0120513e9cd5"
      },
      "source": [
        "import numpy as np\r\n",
        "import pandas as pd\r\n",
        "import sklearn\r\n",
        "\r\n",
        "sklearn.__version__"
      ],
      "execution_count": 1,
      "outputs": [
        {
          "output_type": "execute_result",
          "data": {
            "application/vnd.google.colaboratory.intrinsic+json": {
              "type": "string"
            },
            "text/plain": [
              "'0.22.2.post1'"
            ]
          },
          "metadata": {
            "tags": []
          },
          "execution_count": 1
        }
      ]
    },
    {
      "cell_type": "markdown",
      "metadata": {
        "id": "RbjlMHG1vEKv"
      },
      "source": [
        "###<a name=\"1\"></a>Załadowanie danyc"
      ]
    },
    {
      "cell_type": "code",
      "metadata": {
        "colab": {
          "base_uri": "https://localhost:8080/",
          "height": 238
        },
        "id": "KCe2TeQIvglo",
        "outputId": "25f8ff23-9e46-4090-c73c-17c5d031dfb8"
      },
      "source": [
        "def fetch_financial_data(company='AMZN'):\r\n",
        "    \"\"\"\r\n",
        "    This function fetches stock market quotations.\r\n",
        "    \"\"\"\r\n",
        "    import pandas_datareader.data as web\r\n",
        "    return web.DataReader(name=company, data_source='stooq')\r\n",
        "\r\n",
        "df_raw = fetch_financial_data()\r\n",
        "df_raw.head()"
      ],
      "execution_count": 2,
      "outputs": [
        {
          "output_type": "execute_result",
          "data": {
            "text/html": [
              "<div>\n",
              "<style scoped>\n",
              "    .dataframe tbody tr th:only-of-type {\n",
              "        vertical-align: middle;\n",
              "    }\n",
              "\n",
              "    .dataframe tbody tr th {\n",
              "        vertical-align: top;\n",
              "    }\n",
              "\n",
              "    .dataframe thead th {\n",
              "        text-align: right;\n",
              "    }\n",
              "</style>\n",
              "<table border=\"1\" class=\"dataframe\">\n",
              "  <thead>\n",
              "    <tr style=\"text-align: right;\">\n",
              "      <th></th>\n",
              "      <th>Open</th>\n",
              "      <th>High</th>\n",
              "      <th>Low</th>\n",
              "      <th>Close</th>\n",
              "      <th>Volume</th>\n",
              "    </tr>\n",
              "    <tr>\n",
              "      <th>Date</th>\n",
              "      <th></th>\n",
              "      <th></th>\n",
              "      <th></th>\n",
              "      <th></th>\n",
              "      <th></th>\n",
              "    </tr>\n",
              "  </thead>\n",
              "  <tbody>\n",
              "    <tr>\n",
              "      <th>2020-12-31</th>\n",
              "      <td>3275.00</td>\n",
              "      <td>3282.9219</td>\n",
              "      <td>3241.200</td>\n",
              "      <td>3256.93</td>\n",
              "      <td>2957206</td>\n",
              "    </tr>\n",
              "    <tr>\n",
              "      <th>2020-12-30</th>\n",
              "      <td>3341.00</td>\n",
              "      <td>3342.1000</td>\n",
              "      <td>3282.470</td>\n",
              "      <td>3285.85</td>\n",
              "      <td>3209310</td>\n",
              "    </tr>\n",
              "    <tr>\n",
              "      <th>2020-12-29</th>\n",
              "      <td>3309.94</td>\n",
              "      <td>3350.6500</td>\n",
              "      <td>3281.223</td>\n",
              "      <td>3322.00</td>\n",
              "      <td>4872933</td>\n",
              "    </tr>\n",
              "    <tr>\n",
              "      <th>2020-12-28</th>\n",
              "      <td>3194.00</td>\n",
              "      <td>3304.0000</td>\n",
              "      <td>3172.690</td>\n",
              "      <td>3283.96</td>\n",
              "      <td>5686787</td>\n",
              "    </tr>\n",
              "    <tr>\n",
              "      <th>2020-12-24</th>\n",
              "      <td>3193.90</td>\n",
              "      <td>3202.0000</td>\n",
              "      <td>3169.000</td>\n",
              "      <td>3172.69</td>\n",
              "      <td>1451917</td>\n",
              "    </tr>\n",
              "  </tbody>\n",
              "</table>\n",
              "</div>"
            ],
            "text/plain": [
              "               Open       High       Low    Close   Volume\n",
              "Date                                                      \n",
              "2020-12-31  3275.00  3282.9219  3241.200  3256.93  2957206\n",
              "2020-12-30  3341.00  3342.1000  3282.470  3285.85  3209310\n",
              "2020-12-29  3309.94  3350.6500  3281.223  3322.00  4872933\n",
              "2020-12-28  3194.00  3304.0000  3172.690  3283.96  5686787\n",
              "2020-12-24  3193.90  3202.0000  3169.000  3172.69  1451917"
            ]
          },
          "metadata": {
            "tags": []
          },
          "execution_count": 2
        }
      ]
    },
    {
      "cell_type": "markdown",
      "metadata": {
        "id": "wC6QrP58vHgC"
      },
      "source": [
        "###<a name=\"2\"></a>Utworzenie kopii danych"
      ]
    },
    {
      "cell_type": "code",
      "metadata": {
        "colab": {
          "base_uri": "https://localhost:8080/"
        },
        "id": "sKznEBzevry_",
        "outputId": "35903eaf-51ed-4dec-b304-6ab2bbfb4f14"
      },
      "source": [
        "df = df_raw.copy()\r\n",
        "df = df[:5]\r\n",
        "df.info()"
      ],
      "execution_count": 3,
      "outputs": [
        {
          "output_type": "stream",
          "text": [
            "<class 'pandas.core.frame.DataFrame'>\n",
            "DatetimeIndex: 5 entries, 2020-12-31 to 2020-12-24\n",
            "Data columns (total 5 columns):\n",
            " #   Column  Non-Null Count  Dtype  \n",
            "---  ------  --------------  -----  \n",
            " 0   Open    5 non-null      float64\n",
            " 1   High    5 non-null      float64\n",
            " 2   Low     5 non-null      float64\n",
            " 3   Close   5 non-null      float64\n",
            " 4   Volume  5 non-null      int64  \n",
            "dtypes: float64(4), int64(1)\n",
            "memory usage: 240.0 bytes\n"
          ],
          "name": "stdout"
        }
      ]
    },
    {
      "cell_type": "markdown",
      "metadata": {
        "id": "YxZct3HLvMvY"
      },
      "source": [
        "###<a name=\"3\"></a>Generowanie nowych zmiennych"
      ]
    },
    {
      "cell_type": "code",
      "metadata": {
        "colab": {
          "base_uri": "https://localhost:8080/"
        },
        "id": "NFcQOxbav5YX",
        "outputId": "d5343796-f43b-4c89-90e9-a678df83e459"
      },
      "source": [
        "df.index.month"
      ],
      "execution_count": 4,
      "outputs": [
        {
          "output_type": "execute_result",
          "data": {
            "text/plain": [
              "Int64Index([12, 12, 12, 12, 12], dtype='int64', name='Date')"
            ]
          },
          "metadata": {
            "tags": []
          },
          "execution_count": 4
        }
      ]
    },
    {
      "cell_type": "code",
      "metadata": {
        "colab": {
          "base_uri": "https://localhost:8080/",
          "height": 238
        },
        "id": "NPmSA20AwCUh",
        "outputId": "ab4d62ba-67c3-4563-e7f6-9861af911716"
      },
      "source": [
        "df['day'] = df.index.day\r\n",
        "df['month'] = df.index.month\r\n",
        "df['year'] = df.index.year\r\n",
        "df"
      ],
      "execution_count": 6,
      "outputs": [
        {
          "output_type": "execute_result",
          "data": {
            "text/html": [
              "<div>\n",
              "<style scoped>\n",
              "    .dataframe tbody tr th:only-of-type {\n",
              "        vertical-align: middle;\n",
              "    }\n",
              "\n",
              "    .dataframe tbody tr th {\n",
              "        vertical-align: top;\n",
              "    }\n",
              "\n",
              "    .dataframe thead th {\n",
              "        text-align: right;\n",
              "    }\n",
              "</style>\n",
              "<table border=\"1\" class=\"dataframe\">\n",
              "  <thead>\n",
              "    <tr style=\"text-align: right;\">\n",
              "      <th></th>\n",
              "      <th>Open</th>\n",
              "      <th>High</th>\n",
              "      <th>Low</th>\n",
              "      <th>Close</th>\n",
              "      <th>Volume</th>\n",
              "      <th>day</th>\n",
              "      <th>month</th>\n",
              "      <th>year</th>\n",
              "    </tr>\n",
              "    <tr>\n",
              "      <th>Date</th>\n",
              "      <th></th>\n",
              "      <th></th>\n",
              "      <th></th>\n",
              "      <th></th>\n",
              "      <th></th>\n",
              "      <th></th>\n",
              "      <th></th>\n",
              "      <th></th>\n",
              "    </tr>\n",
              "  </thead>\n",
              "  <tbody>\n",
              "    <tr>\n",
              "      <th>2020-12-31</th>\n",
              "      <td>3275.00</td>\n",
              "      <td>3282.9219</td>\n",
              "      <td>3241.200</td>\n",
              "      <td>3256.93</td>\n",
              "      <td>2957206</td>\n",
              "      <td>31</td>\n",
              "      <td>12</td>\n",
              "      <td>2020</td>\n",
              "    </tr>\n",
              "    <tr>\n",
              "      <th>2020-12-30</th>\n",
              "      <td>3341.00</td>\n",
              "      <td>3342.1000</td>\n",
              "      <td>3282.470</td>\n",
              "      <td>3285.85</td>\n",
              "      <td>3209310</td>\n",
              "      <td>30</td>\n",
              "      <td>12</td>\n",
              "      <td>2020</td>\n",
              "    </tr>\n",
              "    <tr>\n",
              "      <th>2020-12-29</th>\n",
              "      <td>3309.94</td>\n",
              "      <td>3350.6500</td>\n",
              "      <td>3281.223</td>\n",
              "      <td>3322.00</td>\n",
              "      <td>4872933</td>\n",
              "      <td>29</td>\n",
              "      <td>12</td>\n",
              "      <td>2020</td>\n",
              "    </tr>\n",
              "    <tr>\n",
              "      <th>2020-12-28</th>\n",
              "      <td>3194.00</td>\n",
              "      <td>3304.0000</td>\n",
              "      <td>3172.690</td>\n",
              "      <td>3283.96</td>\n",
              "      <td>5686787</td>\n",
              "      <td>28</td>\n",
              "      <td>12</td>\n",
              "      <td>2020</td>\n",
              "    </tr>\n",
              "    <tr>\n",
              "      <th>2020-12-24</th>\n",
              "      <td>3193.90</td>\n",
              "      <td>3202.0000</td>\n",
              "      <td>3169.000</td>\n",
              "      <td>3172.69</td>\n",
              "      <td>1451917</td>\n",
              "      <td>24</td>\n",
              "      <td>12</td>\n",
              "      <td>2020</td>\n",
              "    </tr>\n",
              "  </tbody>\n",
              "</table>\n",
              "</div>"
            ],
            "text/plain": [
              "               Open       High       Low    Close   Volume  day  month  year\n",
              "Date                                                                        \n",
              "2020-12-31  3275.00  3282.9219  3241.200  3256.93  2957206   31     12  2020\n",
              "2020-12-30  3341.00  3342.1000  3282.470  3285.85  3209310   30     12  2020\n",
              "2020-12-29  3309.94  3350.6500  3281.223  3322.00  4872933   29     12  2020\n",
              "2020-12-28  3194.00  3304.0000  3172.690  3283.96  5686787   28     12  2020\n",
              "2020-12-24  3193.90  3202.0000  3169.000  3172.69  1451917   24     12  2020"
            ]
          },
          "metadata": {
            "tags": []
          },
          "execution_count": 6
        }
      ]
    },
    {
      "cell_type": "markdown",
      "metadata": {
        "id": "K6D2ZCfVvQup"
      },
      "source": [
        "###<a name=\"4\"></a>Dyskretyzacja zmiennej ciągłej"
      ]
    },
    {
      "cell_type": "markdown",
      "metadata": {
        "id": "Q49jQPWovWWg"
      },
      "source": [
        "###<a name=\"5\"></a>Ekstrakcja cech"
      ]
    }
  ]
}