{
  "nbformat": 4,
  "nbformat_minor": 0,
  "metadata": {
    "colab": {
      "name": "01_linear_regression_normal_equation.ipynb",
      "provenance": [],
      "authorship_tag": "ABX9TyM+UGjGq2bSotalzxYajxWW",
      "include_colab_link": true
    },
    "kernelspec": {
      "name": "python3",
      "display_name": "Python 3"
    }
  },
  "cells": [
    {
      "cell_type": "markdown",
      "metadata": {
        "id": "view-in-github",
        "colab_type": "text"
      },
      "source": [
        "<a href=\"https://colab.research.google.com/github/gorand850/machine-learning-bootcamp/blob/main/06_Regresja_liniowa/32_linear_regression_normal_equation.ipynb\" target=\"_parent\"><img src=\"https://colab.research.google.com/assets/colab-badge.svg\" alt=\"Open In Colab\"/></a>"
      ]
    },
    {
      "cell_type": "markdown",
      "metadata": {
        "id": "METOybvyX1YM"
      },
      "source": [
        "\r\n",
        "#scikit-learn\r\n",
        "\r\n",
        "Strona biblioteki: https://scikit-learn.org\r\n",
        "\r\n",
        "Dokumentacja/User Guide: https://scikit-learn.org/stable/user_guide.html\r\n",
        "\r\n",
        "Podstawowa biblioteka do uczenia maszynowego w języku Python.\r\n",
        "\r\n",
        "Aby zainstalować bibliotekę scikit-learn, użyj polecenia poniżej:\r\n",
        "\r\n",
        "`!pip install scikit-learn`\r\n",
        "\r\n",
        "Aby zaktualizować do najnowszej wersji bibliotekę scikit-learn, użyj polecenia poniżej:\r\n",
        "\r\n",
        "`!pip install --upgrade scikit-learn`\r\n",
        "\r\n",
        "Kurs stworzony w oparciu o wersję 0.22.1\r\n",
        "Spis treści:\r\n",
        "\r\n",
        "1. [Import bibliotek](#0)\r\n",
        "2. [Przygotowanie danych](#1)\r\n",
        "3. [Równanie normalne](#2)\r\n",
        "4. [Regresja liniowa przy pomocy scikit-learn](#3)\r\n",
        "\r\n"
      ]
    },
    {
      "cell_type": "markdown",
      "metadata": {
        "id": "gS6GzGWyYMEx"
      },
      "source": [
        "###<a name=\"0\"></a>Import bibliotek"
      ]
    },
    {
      "cell_type": "code",
      "metadata": {
        "id": "TIlFL5k8XwQq"
      },
      "source": [
        "import numpy as np"
      ],
      "execution_count": 1,
      "outputs": []
    },
    {
      "cell_type": "markdown",
      "metadata": {
        "id": "3PV-Z_tzYd3h"
      },
      "source": [
        "###<a name=\"1\"></a>Przygotowanie danych"
      ]
    },
    {
      "cell_type": "code",
      "metadata": {
        "colab": {
          "base_uri": "https://localhost:8080/"
        },
        "id": "7EvHrj3iYc2z",
        "outputId": "ef761534-ecd6-437f-90e1-533d0493bacb"
      },
      "source": [
        "X1 = np.array([1, 2, 3, 4, 5, 6])\r\n",
        "Y = np.array([3000, 3250, 3500, 3750, 4000, 4250])\r\n",
        "m = len(X1)\r\n",
        "\r\n",
        "print(f'Lata pracy: {X1}')\r\n",
        "print(f'Wynagrodzenie: {Y}')\r\n",
        "print(f'Liczba próbek: {m}')"
      ],
      "execution_count": 2,
      "outputs": [
        {
          "output_type": "stream",
          "text": [
            "Lata pracy: [1 2 3 4 5 6]\n",
            "Wynagrodzenie: [3000 3250 3500 3750 4000 4250]\n",
            "Liczba próbek: 6\n"
          ],
          "name": "stdout"
        }
      ]
    },
    {
      "cell_type": "code",
      "metadata": {
        "colab": {
          "base_uri": "https://localhost:8080/"
        },
        "id": "aAaUpYDzZD5d",
        "outputId": "410168dd-3671-48b0-e86f-329a831b5454"
      },
      "source": [
        "#Zmiana formatu danych, z tablicy 1 wymoiarowej, na tablice 6 wymiarową z 1 elementem\r\n",
        "X1 = X1.reshape(m, 1)\r\n",
        "print(X1)\r\n",
        "print(X1.shape)"
      ],
      "execution_count": 3,
      "outputs": [
        {
          "output_type": "stream",
          "text": [
            "[[1]\n",
            " [2]\n",
            " [3]\n",
            " [4]\n",
            " [5]\n",
            " [6]]\n",
            "(6, 1)\n"
          ],
          "name": "stdout"
        }
      ]
    },
    {
      "cell_type": "code",
      "metadata": {
        "colab": {
          "base_uri": "https://localhost:8080/"
        },
        "id": "IcB6lhZYZiZs",
        "outputId": "35054ea9-9179-4ce9-855d-8cd7ef7d34fc"
      },
      "source": [
        "#generujemy wektor wyrazów wolnych, które przydadzą nam się do wyliczania stałej w równaniu, często nazywany bias (bajas)\r\n",
        "bias = np.ones((m, 1))\r\n",
        "print(bias)\r\n",
        "print(bias.shape)"
      ],
      "execution_count": 4,
      "outputs": [
        {
          "output_type": "stream",
          "text": [
            "[[1.]\n",
            " [1.]\n",
            " [1.]\n",
            " [1.]\n",
            " [1.]\n",
            " [1.]]\n",
            "(6, 1)\n"
          ],
          "name": "stdout"
        }
      ]
    },
    {
      "cell_type": "code",
      "metadata": {
        "colab": {
          "base_uri": "https://localhost:8080/"
        },
        "id": "TCgoh5jTZ4PE",
        "outputId": "ee9d0005-87de-4d36-e95d-19fe18adf954"
      },
      "source": [
        "#łączymy wektory X1 i bias, tak by była to macierz zmiennych\r\n",
        "X = np.append(bias, X1, axis=1)\r\n",
        "print(X)\r\n",
        "print(X.shape)"
      ],
      "execution_count": 5,
      "outputs": [
        {
          "output_type": "stream",
          "text": [
            "[[1. 1.]\n",
            " [1. 2.]\n",
            " [1. 3.]\n",
            " [1. 4.]\n",
            " [1. 5.]\n",
            " [1. 6.]]\n",
            "(6, 2)\n"
          ],
          "name": "stdout"
        }
      ]
    },
    {
      "cell_type": "markdown",
      "metadata": {
        "id": "JXOBh8GPaVDh"
      },
      "source": [
        "###<a name=\"2\"></a>Równanie normalne\r\n",
        "Regresja liniowa w $R^2$: \r\n",
        "$$Y = w_0 + w_1X_1$$ \r\n",
        "$$Y = W^TX$$ \r\n",
        "gdzie: \r\n",
        "$$W= \\left[\\begin{matrix}w_0\\\\w_1\\end{matrix}\\right]$$ $$ X= \\left[\\begin{matrix}1\\\\X_1\\end{matrix}\\right] $$ \r\n",
        "stąd $$ W^T= \\left[\\begin{matrix}w_0&amp;w_1\\end{matrix}\\right] $$\r\n",
        "$$Y = W^TX = \\left[\\begin{matrix}w_0&amp;w_1\\end{matrix}\\right] \\cdot \\left[\\begin{matrix}1\\\\X_1\\end{matrix}\\right] = w_0 + w_1X_1$$\r\n",
        "\r\n",
        "Równanie normalne - równanie pozwalające obliczyć minimum funkcji straty (o ile istnieje) \r\n",
        "$$ W = (X^TX)^{-1} (X^TY) $$"
      ]
    },
    {
      "cell_type": "code",
      "metadata": {
        "colab": {
          "base_uri": "https://localhost:8080/"
        },
        "id": "DL9n9L2ZaTHE",
        "outputId": "b29fa7dd-0902-444c-baf6-375db42055b1"
      },
      "source": [
        "#mnożenie macieży w numpy za pomocą metody dot\r\n",
        "np.dot(X.T, X)"
      ],
      "execution_count": 6,
      "outputs": [
        {
          "output_type": "execute_result",
          "data": {
            "text/plain": [
              "array([[ 6., 21.],\n",
              "       [21., 91.]])"
            ]
          },
          "metadata": {
            "tags": []
          },
          "execution_count": 6
        }
      ]
    },
    {
      "cell_type": "markdown",
      "metadata": {
        "id": "4vabrExYc5MQ"
      },
      "source": [
        "obliczamy wartość równania: $(X^TX)^{-1}$"
      ]
    },
    {
      "cell_type": "code",
      "metadata": {
        "colab": {
          "base_uri": "https://localhost:8080/"
        },
        "id": "KZDQ7icbcJ3s",
        "outputId": "ed7e5555-af5a-4d74-f208-8f34d37f24a2"
      },
      "source": [
        "L = np.linalg.inv(np.dot(X.T, X))\r\n",
        "L"
      ],
      "execution_count": 7,
      "outputs": [
        {
          "output_type": "execute_result",
          "data": {
            "text/plain": [
              "array([[ 0.86666667, -0.2       ],\n",
              "       [-0.2       ,  0.05714286]])"
            ]
          },
          "metadata": {
            "tags": []
          },
          "execution_count": 7
        }
      ]
    },
    {
      "cell_type": "markdown",
      "metadata": {
        "id": "idUfi4sldNop"
      },
      "source": [
        "obliczamy wartość równania: $(X^TY)$"
      ]
    },
    {
      "cell_type": "code",
      "metadata": {
        "colab": {
          "base_uri": "https://localhost:8080/"
        },
        "id": "fw13xp0JchVs",
        "outputId": "cd097a78-880f-4a81-8200-ccd0c161ac83"
      },
      "source": [
        "P = np.dot(X.T,Y)\r\n",
        "P"
      ],
      "execution_count": 8,
      "outputs": [
        {
          "output_type": "execute_result",
          "data": {
            "text/plain": [
              "array([21750., 80500.])"
            ]
          },
          "metadata": {
            "tags": []
          },
          "execution_count": 8
        }
      ]
    },
    {
      "cell_type": "markdown",
      "metadata": {
        "id": "VmN-sarmdd0w"
      },
      "source": [
        "Mnożymy macierze $W = LP = (X^TX)^{-1}(X^TY) $"
      ]
    },
    {
      "cell_type": "code",
      "metadata": {
        "colab": {
          "base_uri": "https://localhost:8080/"
        },
        "id": "Qbx2y0tfdX0s",
        "outputId": "8013689f-d19d-4bb7-ef99-5e717185a310"
      },
      "source": [
        "np.dot(L, P)"
      ],
      "execution_count": 9,
      "outputs": [
        {
          "output_type": "execute_result",
          "data": {
            "text/plain": [
              "array([2750.,  250.])"
            ]
          },
          "metadata": {
            "tags": []
          },
          "execution_count": 9
        }
      ]
    },
    {
      "cell_type": "markdown",
      "metadata": {
        "id": "cTmM2Hqad4jf"
      },
      "source": [
        "Końcowa postać modelu: $Y = 2750 + 250X_1$"
      ]
    },
    {
      "cell_type": "markdown",
      "metadata": {
        "id": "zJPaWT5BeFtg"
      },
      "source": [
        "##<a name=\"3\"></a>Regresja liniowa przy pomocy scikit-learn"
      ]
    },
    {
      "cell_type": "code",
      "metadata": {
        "colab": {
          "base_uri": "https://localhost:8080/"
        },
        "id": "B8-axJE6dxs0",
        "outputId": "40c2e18b-7af1-4d6d-9251-92d3752e4c66"
      },
      "source": [
        "from sklearn.linear_model import LinearRegression\r\n",
        "\r\n",
        "regression = LinearRegression()\r\n",
        "regression.fit(X1, Y)\r\n",
        "\r\n",
        "print(regression.intercept_)\r\n",
        "print(regression.coef_[0])"
      ],
      "execution_count": 10,
      "outputs": [
        {
          "output_type": "stream",
          "text": [
            "2750.0\n",
            "250.0\n"
          ],
          "name": "stdout"
        }
      ]
    },
    {
      "cell_type": "code",
      "metadata": {
        "id": "FjIHKZE8ejGk"
      },
      "source": [
        ""
      ],
      "execution_count": null,
      "outputs": []
    }
  ]
}